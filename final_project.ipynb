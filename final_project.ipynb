{
 "cells": [
  {
   "cell_type": "markdown",
   "id": "8a3d780f",
   "metadata": {},
   "source": [
    "# Table of Contents\n",
    "\n",
    "[Task](#task)\n",
    "\n",
    "1. [Task 1. A/B Testing](#task_1)\n",
    "   \n",
    "    1.1 [Data Import](#data_import)\n",
    "   \n",
    "    1.2 [Exploratory Data Analysis](#first_look)\n",
    "   \n",
    "    1.3 [A/B Test](#ab_test)\n",
    "   \n",
    "      1.3.1 [Data Preparation and Conversion Analysis](#conversion)\n",
    "       \n",
    "      1.3.2 [A/B Test Results for Conversion](#conversion_results)\n",
    "       \n",
    "      1.3.3 [Data Preparation and ARPPU Analysis](#arppu)\n",
    "       \n",
    "    * [Checking for Normal Distribution using Graphs](#normal_graph)\n",
    "           \n",
    "    * [Checking for Normal Distribution using Shapiro-Wilk Test](#normal_shapiro)\n",
    "          \n",
    "    * [Comparing Groups using t-test](#t_test)\n",
    "         \n",
    "    * [Comparing Groups using Mann-Whitney](#mann-whitney)\n",
    "           \n",
    "    * [Comparing Groups using Bootstrap](#bootstrap)\n",
    "           \n",
    "    * [Bootstrap for Mean Value](#bootstrap_mean)\n",
    "           \n",
    "    1.3.4 [A/B Test Results](#ab_test_results)\n",
    "       \n",
    "2. [Task 2. SQL](#task_2)\n",
    "\n",
    "   2.1 [Counting Active Students](#task_2_1)\n",
    "   \n",
    "    * [Answer](#answer_2_1)\n",
    "       \n",
    "   2.2 [Optimizing the Funnel](#task_2_2)\n",
    "   \n",
    "    * [Answer](#answer_2_2)\n",
    "       \n",
    "3. [Task 3. Python](#task_3)\n"
   ]
  },
  {
   "cell_type": "markdown",
   "id": "859a702d",
   "metadata": {},
   "source": [
    "# Karpov Courses final project\n",
    "   \n",
    "## Task 1. A/B Testing <a class=\"anchor\" id=\"task\"></a>\n",
    "\n",
    "**1.1 Description**\n",
    "\n",
    "One of the main tasks of an analyst in our team is to conduct experiments correctly. To do this, we use the A/B testing method. During the testing of one hypothesis, a new payment mechanism for services on the website was proposed to the target group, while the control group retained the basic mechanism. As a task, you need to analyze the results of the experiment and make a conclusion whether to launch the new payment mechanism for all users.\n",
    "\n",
    "**1.2 Input Data**\n",
    "\n",
    "As input data, you have 4 csv-files:\n",
    "\n",
    "-   [**groups.csv**](https://disk.yandex.ru/d/58Us0DWOzuWAjg) - a file with information about the user's belonging to the control or experimental group (A - control, B - target group) \n",
    "-   [**groups_add.csv**](https://disk.yandex.ru/d/3aARY-P9pfaksg) - an additional file with users that was sent to you 2 days after the data was provided\n",
    "-   [**active_studs.csv**](https://disk.yandex.ru/d/prbgU-rZpiXVYg) - a file with information about the users who logged into the platform during the days of the experiment. \n",
    "-   [**checks.csv**](https://disk.yandex.ru/d/84hTmELphW2sqQ) - a file with information about user payments during the days of the experiment. \n",
    "\n",
    "**1.3 Questions**\n",
    "\n",
    "We suggest that you answer the following questions:\n",
    "\n",
    "-   What metrics do you look at during analysis and why?\n",
    "-   Are there any differences in the indicators and what can they be related to?\n",
    "-   Are these differences statistically significant?\n",
    "-   Should the new mechanism be launched for all users?\n",
    "\n",
    "This list of questions is not mandatory, and you can rely on your own plan in your answer.\n",
    "\n",
    "**1.4 Requirements for the Answer**\n",
    "\n",
    "-   When performing the test task, it is necessary to use the Python programming language. \n",
    "-   The file must have comments on the actions that you perform with the data. \n",
    "-   The file should be a complete report with conclusions made during the research.\n",
    "\n",
    "## Task 2. SQL \n",
    "\n",
    "**2.1 Very diligent students.**\n",
    "\n",
    "**2.1.1 Condition**\n",
    "\n",
    "Educational courses consist of various lessons, each of which consists of several small tasks. Each such small task is called a \"pea\".\n",
    "\n",
    "Let's call a very diligent student a user who has correctly solved 20 peas at least once this month.\n",
    "\n",
    "**2.1.2 Task**\n",
    "\n",
    "Given the default.peas table:\n",
    "\n",
    "| Attribute name | Attribute type | Semantic value                           |\n",
    "|----------------|----------------|------------------------------------------|\n",
    "| st_id          | int            | Student ID                               |\n",
    "| timest         | timestamp      | Time of solving the task                 |\n",
    "| correct        | bool           | Whether the pea was solved correctly     |\n",
    "| subject        | text           | Discipline in which the pea is located   |\n",
    "\n",
    "You need to write an **optimal query** that will provide information about the number of very diligent students.\n",
    "  \n",
    "NB! By a diligent student we mean a student who has correctly solved 20 tasks this month.  \n",
    "\n",
    "**2.2 Funnel optimization**\n",
    "\n",
    "**2.2.1 Condition**\n",
    "\n",
    "The educational platform offers students courses using the trial model: a student can solve only 30 peas for free per day. To get unlimited tasks in a particular discipline, a student must purchase full access. The team conducted an experiment where a new payment screen was tested.\n",
    "\n",
    "**2.2.2 Task**\n",
    "\n",
    "Given the default.peas and default.studs tables:\n",
    "\n",
    "| Attribute name | Attribute type | Semantic value                          |\n",
    "|----------------|----------------|-----------------------------------------|\n",
    "| st_id          | int            | Student ID                               |\n",
    "| test_grp       | text           | Label of the student in this experiment |\n",
    "\n",
    "and default.final_project_check:\n",
    "\n",
    "| Attribute name | Attribute type | Semantic value                                |\n",
    "|----------------|----------------|-----------------------------------------------|\n",
    "| st_id          | int            | Student ID                                    |\n",
    "| sale_time      | timestamp      | Purchase time                                 |\n",
    "| money          | int            | The price at which this course was purchased  |\n",
    "| subject        | text           | Discipline for which full access was purchased|\n",
    "\n",
    "You need to provide the following information about user groups in one query:\n",
    "\n",
    "-   ARPU\n",
    "-   ARPAU\n",
    "-   Purchase conversion rate\n",
    "-   Conversion rate of an active user to purchase\n",
    "-   Conversion rate of a user who is active in mathematics (subject = 'math') to purchase a mathematics course\n",
    "\n",
    "ARPU is calculated relative to all users who have been grouped.\n",
    "\n",
    "A user is considered **active** if they have correctly solved **more than** 10 tasks in any discipline over their entire history.\n",
    "\n",
    "A user is considered **active in mathematics** if they have correctly solved **2 or more** tasks in mathematics over their entire history.\n",
    "\n",
    "**All data is in tabular form in Clickhouse**\n",
    "\n",
    "## Task 3. Python\n",
    "\n",
    "**3.1 Task**\n",
    "\n",
    "1. Implement a function that will automatically load information from the additional file `groups_add.csv` (headers may differ) and recalculate metrics based on additional parameters.\n",
    "2. Implement a function that will plot graphs based on the obtained metrics.\n"
   ]
  },
  {
   "cell_type": "markdown",
   "id": "a478dcd7",
   "metadata": {},
   "source": [
    "___"
   ]
  },
  {
   "cell_type": "code",
   "execution_count": 3,
   "id": "f3c72005",
   "metadata": {},
   "outputs": [
    {
     "name": "stderr",
     "output_type": "stream",
     "text": [
      "c:\\Users\\yasno\\AppData\\Local\\Programs\\Python\\Python37\\lib\\site-packages\\tqdm\\auto.py:22: TqdmWarning: IProgress not found. Please update jupyter and ipywidgets. See https://ipywidgets.readthedocs.io/en/stable/user_install.html\n",
      "  from .autonotebook import tqdm as notebook_tqdm\n"
     ]
    }
   ],
   "source": [
    "from scipy.stats import chi2_contingency\n",
    "import pandahouse as ph\n",
    "from scipy.stats import norm\n",
    "import scipy.stats as ss\n",
    "import numpy as np\n",
    "import pandas as pd\n",
    "import requests\n",
    "import urllib.parse\n",
    "import seaborn as sns\n",
    "import matplotlib.pyplot as plt\n",
    "from tqdm.auto import tqdm\n",
    "\n",
    "%matplotlib inline\n",
    "plt.style.use('default')"
   ]
  },
  {
   "cell_type": "markdown",
   "id": "96aaef17",
   "metadata": {},
   "source": [
    "# Task 1 <a class=\"anchor\" id=\"task_1\"></a>\n"
   ]
  },
  {
   "cell_type": "markdown",
   "id": "013a0f55",
   "metadata": {},
   "source": [
    "## 1.1 Data import <a class=\"anchor\" id=\"data_import\"></a>\n"
   ]
  },
  {
   "cell_type": "code",
   "execution_count": 1,
   "id": "c1db1b13",
   "metadata": {},
   "outputs": [
    {
     "name": "stdout",
     "output_type": "stream",
     "text": [
      "Yandex returns an error. It is necessary to uncomment the line below and import data from the disk manually.\n"
     ]
    }
   ],
   "source": [
    "# Importing data from Yandex.Disk into DataFrame groups\n",
    "try:\n",
    "    targetUrl = \"https://disk.yandex.ru/d/58Us0DWOzuWAjg\"\n",
    "    url = \"https://cloud-api.yandex.net/v1/disk/public/resources?public_key=\" + \\\n",
    "        urllib.parse.quote(targetUrl, safe=\"\")\n",
    "    responseData = requests.get(url)\n",
    "    url = responseData.json()['file'] + '/' + responseData.json()['name']\n",
    "    url = str(url.encode('cp1251'))[2:]\n",
    "    num = len(url)\n",
    "    url = url[:num-1]\n",
    "    groups = pd.read_csv(url, sep=';')\n",
    "except:\n",
    "    print(\"Yandex returns an error. It is necessary to uncomment the line below and import data from the disk manually.\")"
   ]
  },
  {
   "cell_type": "code",
   "execution_count": 5,
   "id": "f0547d74",
   "metadata": {},
   "outputs": [],
   "source": [
    "# Importing data from Yandex.Disk into DataFrame groups_add\n",
    "try:\n",
    "    targetUrl = \"https://disk.yandex.ru/d/3aARY-P9pfaksg\"\n",
    "    url = \"https://cloud-api.yandex.net/v1/disk/public/resources?public_key=\" + \\\n",
    "        urllib.parse.quote(targetUrl, safe=\"\")\n",
    "    responseData = requests.get(url)\n",
    "    url = responseData.json()['file'] + '/' + responseData.json()['name']\n",
    "    url = str(url.encode('cp1251'))[2:]\n",
    "    num = len(url)\n",
    "    url = url[:num-1]\n",
    "    groups_add = pd.read_csv(url)\n",
    "except:\n",
    "    print(\"Yandex returns an error. It is necessary to uncomment the line below and import data from the disk manually.\")"
   ]
  },
  {
   "cell_type": "code",
   "execution_count": null,
   "id": "95bbbeda",
   "metadata": {},
   "outputs": [],
   "source": [
    "# Importing data from Yandex.Disk into DataFramee active_studs\n",
    "try:\n",
    "    targetUrl = \"https://disk.yandex.ru/d/prbgU-rZpiXVYg\"\n",
    "    url = \"https://cloud-api.yandex.net/v1/disk/public/resources?public_key=\" + \\\n",
    "        urllib.parse.quote(targetUrl, safe=\"\")\n",
    "    responseData = requests.get(url)\n",
    "    url = responseData.json()['file'] + '/' + responseData.json()['name']\n",
    "    url = str(url.encode('cp1251'))[2:]\n",
    "    num = len(url)\n",
    "    url = url[:num-1]\n",
    "    active_studs = pd.read_csv(url, sep=';')\n",
    "except:\n",
    "    print(\"Yandex returns an error. It is necessary to uncomment the line below and import data from the disk manually.\")"
   ]
  },
  {
   "cell_type": "code",
   "execution_count": null,
   "id": "b061bff4",
   "metadata": {},
   "outputs": [],
   "source": [
    "# Importing data from Yandex.Disk into DataFrame checks\n",
    "try:\n",
    "    targetUrl = \"https://disk.yandex.ru/d/84hTmELphW2sqQ\"\n",
    "    url = \"https://cloud-api.yandex.net/v1/disk/public/resources?public_key=\" + \\\n",
    "        urllib.parse.quote(targetUrl, safe=\"\")\n",
    "    responseData = requests.get(url)\n",
    "    url = responseData.json()['file'] + '/' + responseData.json()['name']\n",
    "    url = str(url.encode('cp1251'))[2:]\n",
    "    num = len(url)\n",
    "    url = url[:num-1]\n",
    "    checks = pd.read_csv(url, sep=';')\n",
    "except:\n",
    "    print(\"Yandex returns an error. It is necessary to uncomment the line below and import data from the disk manually.\")"
   ]
  },
  {
   "cell_type": "markdown",
   "id": "9148b261",
   "metadata": {},
   "source": [
    "# 1.2 Exploratory Data Analysis <a class=\"anchor\" id=\"first_look\"></a>"
   ]
  },
  {
   "cell_type": "code",
   "execution_count": null,
   "id": "cc22aa76",
   "metadata": {},
   "outputs": [
    {
     "data": {
      "text/html": [
       "<div>\n",
       "<style scoped>\n",
       "    .dataframe tbody tr th:only-of-type {\n",
       "        vertical-align: middle;\n",
       "    }\n",
       "\n",
       "    .dataframe tbody tr th {\n",
       "        vertical-align: top;\n",
       "    }\n",
       "\n",
       "    .dataframe thead th {\n",
       "        text-align: right;\n",
       "    }\n",
       "</style>\n",
       "<table border=\"1\" class=\"dataframe\">\n",
       "  <thead>\n",
       "    <tr style=\"text-align: right;\">\n",
       "      <th></th>\n",
       "      <th>id</th>\n",
       "      <th>grp</th>\n",
       "    </tr>\n",
       "  </thead>\n",
       "  <tbody>\n",
       "    <tr>\n",
       "      <th>0</th>\n",
       "      <td>1489</td>\n",
       "      <td>B</td>\n",
       "    </tr>\n",
       "    <tr>\n",
       "      <th>1</th>\n",
       "      <td>1627</td>\n",
       "      <td>A</td>\n",
       "    </tr>\n",
       "    <tr>\n",
       "      <th>2</th>\n",
       "      <td>1768</td>\n",
       "      <td>B</td>\n",
       "    </tr>\n",
       "    <tr>\n",
       "      <th>3</th>\n",
       "      <td>1783</td>\n",
       "      <td>B</td>\n",
       "    </tr>\n",
       "    <tr>\n",
       "      <th>4</th>\n",
       "      <td>1794</td>\n",
       "      <td>A</td>\n",
       "    </tr>\n",
       "  </tbody>\n",
       "</table>\n",
       "</div>"
      ],
      "text/plain": [
       "     id grp\n",
       "0  1489   B\n",
       "1  1627   A\n",
       "2  1768   B\n",
       "3  1783   B\n",
       "4  1794   A"
      ]
     },
     "execution_count": 6,
     "metadata": {},
     "output_type": "execute_result"
    }
   ],
   "source": [
    "groups.head()"
   ]
  },
  {
   "cell_type": "code",
   "execution_count": 6,
   "id": "c90d9f4b",
   "metadata": {},
   "outputs": [
    {
     "data": {
      "text/plain": [
       "(74484, 2)"
      ]
     },
     "execution_count": 6,
     "metadata": {},
     "output_type": "execute_result"
    }
   ],
   "source": [
    "groups.shape"
   ]
  },
  {
   "cell_type": "code",
   "execution_count": null,
   "id": "ae107788",
   "metadata": {},
   "outputs": [
    {
     "name": "stdout",
     "output_type": "stream",
     "text": [
      "<class 'pandas.core.frame.DataFrame'>\n",
      "RangeIndex: 74484 entries, 0 to 74483\n",
      "Data columns (total 2 columns):\n",
      " #   Column  Non-Null Count  Dtype \n",
      "---  ------  --------------  ----- \n",
      " 0   id      74484 non-null  int64 \n",
      " 1   grp     74484 non-null  object\n",
      "dtypes: int64(1), object(1)\n",
      "memory usage: 1.1+ MB\n"
     ]
    }
   ],
   "source": [
    "groups.info()"
   ]
  },
  {
   "cell_type": "code",
   "execution_count": null,
   "id": "79adc189",
   "metadata": {},
   "outputs": [
    {
     "data": {
      "text/html": [
       "<div>\n",
       "<style scoped>\n",
       "    .dataframe tbody tr th:only-of-type {\n",
       "        vertical-align: middle;\n",
       "    }\n",
       "\n",
       "    .dataframe tbody tr th {\n",
       "        vertical-align: top;\n",
       "    }\n",
       "\n",
       "    .dataframe thead th {\n",
       "        text-align: right;\n",
       "    }\n",
       "</style>\n",
       "<table border=\"1\" class=\"dataframe\">\n",
       "  <thead>\n",
       "    <tr style=\"text-align: right;\">\n",
       "      <th></th>\n",
       "      <th>id</th>\n",
       "      <th>grp</th>\n",
       "    </tr>\n",
       "  </thead>\n",
       "  <tbody>\n",
       "    <tr>\n",
       "      <th>0</th>\n",
       "      <td>5694584</td>\n",
       "      <td>B</td>\n",
       "    </tr>\n",
       "    <tr>\n",
       "      <th>1</th>\n",
       "      <td>5694830</td>\n",
       "      <td>B</td>\n",
       "    </tr>\n",
       "    <tr>\n",
       "      <th>2</th>\n",
       "      <td>5695057</td>\n",
       "      <td>B</td>\n",
       "    </tr>\n",
       "    <tr>\n",
       "      <th>3</th>\n",
       "      <td>5698872</td>\n",
       "      <td>B</td>\n",
       "    </tr>\n",
       "    <tr>\n",
       "      <th>4</th>\n",
       "      <td>5699067</td>\n",
       "      <td>B</td>\n",
       "    </tr>\n",
       "  </tbody>\n",
       "</table>\n",
       "</div>"
      ],
      "text/plain": [
       "        id grp\n",
       "0  5694584   B\n",
       "1  5694830   B\n",
       "2  5695057   B\n",
       "3  5698872   B\n",
       "4  5699067   B"
      ]
     },
     "execution_count": 9,
     "metadata": {},
     "output_type": "execute_result"
    }
   ],
   "source": [
    "groups_add.head()"
   ]
  },
  {
   "cell_type": "code",
   "execution_count": null,
   "id": "97d7cb62",
   "metadata": {},
   "outputs": [
    {
     "data": {
      "text/plain": [
       "(92, 2)"
      ]
     },
     "execution_count": 10,
     "metadata": {},
     "output_type": "execute_result"
    }
   ],
   "source": [
    "groups_add.shape"
   ]
  },
  {
   "cell_type": "code",
   "execution_count": null,
   "id": "9d25fef1",
   "metadata": {},
   "outputs": [
    {
     "name": "stdout",
     "output_type": "stream",
     "text": [
      "<class 'pandas.core.frame.DataFrame'>\n",
      "RangeIndex: 92 entries, 0 to 91\n",
      "Data columns (total 2 columns):\n",
      " #   Column  Non-Null Count  Dtype \n",
      "---  ------  --------------  ----- \n",
      " 0   id      92 non-null     int64 \n",
      " 1   grp     92 non-null     object\n",
      "dtypes: int64(1), object(1)\n",
      "memory usage: 1.6+ KB\n"
     ]
    }
   ],
   "source": [
    "groups_add.info()"
   ]
  },
  {
   "cell_type": "code",
   "execution_count": null,
   "id": "cd7c5fd1",
   "metadata": {},
   "outputs": [
    {
     "data": {
      "text/html": [
       "<div>\n",
       "<style scoped>\n",
       "    .dataframe tbody tr th:only-of-type {\n",
       "        vertical-align: middle;\n",
       "    }\n",
       "\n",
       "    .dataframe tbody tr th {\n",
       "        vertical-align: top;\n",
       "    }\n",
       "\n",
       "    .dataframe thead th {\n",
       "        text-align: right;\n",
       "    }\n",
       "</style>\n",
       "<table border=\"1\" class=\"dataframe\">\n",
       "  <thead>\n",
       "    <tr style=\"text-align: right;\">\n",
       "      <th></th>\n",
       "      <th>student_id</th>\n",
       "    </tr>\n",
       "  </thead>\n",
       "  <tbody>\n",
       "    <tr>\n",
       "      <th>0</th>\n",
       "      <td>581585</td>\n",
       "    </tr>\n",
       "    <tr>\n",
       "      <th>1</th>\n",
       "      <td>5723133</td>\n",
       "    </tr>\n",
       "    <tr>\n",
       "      <th>2</th>\n",
       "      <td>3276743</td>\n",
       "    </tr>\n",
       "    <tr>\n",
       "      <th>3</th>\n",
       "      <td>4238589</td>\n",
       "    </tr>\n",
       "    <tr>\n",
       "      <th>4</th>\n",
       "      <td>4475369</td>\n",
       "    </tr>\n",
       "  </tbody>\n",
       "</table>\n",
       "</div>"
      ],
      "text/plain": [
       "   student_id\n",
       "0      581585\n",
       "1     5723133\n",
       "2     3276743\n",
       "3     4238589\n",
       "4     4475369"
      ]
     },
     "execution_count": 12,
     "metadata": {},
     "output_type": "execute_result"
    }
   ],
   "source": [
    "active_studs.head()"
   ]
  },
  {
   "cell_type": "code",
   "execution_count": null,
   "id": "2f05f5e9",
   "metadata": {},
   "outputs": [
    {
     "data": {
      "text/plain": [
       "(8341, 1)"
      ]
     },
     "execution_count": 13,
     "metadata": {},
     "output_type": "execute_result"
    }
   ],
   "source": [
    "active_studs.shape"
   ]
  },
  {
   "cell_type": "code",
   "execution_count": null,
   "id": "b4a493e7",
   "metadata": {},
   "outputs": [
    {
     "name": "stdout",
     "output_type": "stream",
     "text": [
      "<class 'pandas.core.frame.DataFrame'>\n",
      "RangeIndex: 8341 entries, 0 to 8340\n",
      "Data columns (total 1 columns):\n",
      " #   Column      Non-Null Count  Dtype\n",
      "---  ------      --------------  -----\n",
      " 0   student_id  8341 non-null   int64\n",
      "dtypes: int64(1)\n",
      "memory usage: 65.3 KB\n"
     ]
    }
   ],
   "source": [
    "active_studs.info()"
   ]
  },
  {
   "cell_type": "code",
   "execution_count": null,
   "id": "9e122a17",
   "metadata": {},
   "outputs": [
    {
     "data": {
      "text/html": [
       "<div>\n",
       "<style scoped>\n",
       "    .dataframe tbody tr th:only-of-type {\n",
       "        vertical-align: middle;\n",
       "    }\n",
       "\n",
       "    .dataframe tbody tr th {\n",
       "        vertical-align: top;\n",
       "    }\n",
       "\n",
       "    .dataframe thead th {\n",
       "        text-align: right;\n",
       "    }\n",
       "</style>\n",
       "<table border=\"1\" class=\"dataframe\">\n",
       "  <thead>\n",
       "    <tr style=\"text-align: right;\">\n",
       "      <th></th>\n",
       "      <th>student_id</th>\n",
       "      <th>rev</th>\n",
       "    </tr>\n",
       "  </thead>\n",
       "  <tbody>\n",
       "    <tr>\n",
       "      <th>0</th>\n",
       "      <td>1627</td>\n",
       "      <td>990.0</td>\n",
       "    </tr>\n",
       "    <tr>\n",
       "      <th>1</th>\n",
       "      <td>3185</td>\n",
       "      <td>690.0</td>\n",
       "    </tr>\n",
       "    <tr>\n",
       "      <th>2</th>\n",
       "      <td>25973</td>\n",
       "      <td>690.0</td>\n",
       "    </tr>\n",
       "    <tr>\n",
       "      <th>3</th>\n",
       "      <td>26280</td>\n",
       "      <td>690.0</td>\n",
       "    </tr>\n",
       "    <tr>\n",
       "      <th>4</th>\n",
       "      <td>100300</td>\n",
       "      <td>990.0</td>\n",
       "    </tr>\n",
       "  </tbody>\n",
       "</table>\n",
       "</div>"
      ],
      "text/plain": [
       "   student_id    rev\n",
       "0        1627  990.0\n",
       "1        3185  690.0\n",
       "2       25973  690.0\n",
       "3       26280  690.0\n",
       "4      100300  990.0"
      ]
     },
     "execution_count": 15,
     "metadata": {},
     "output_type": "execute_result"
    }
   ],
   "source": [
    "checks.head()"
   ]
  },
  {
   "cell_type": "code",
   "execution_count": null,
   "id": "2361ec0f",
   "metadata": {},
   "outputs": [
    {
     "data": {
      "text/plain": [
       "(541, 2)"
      ]
     },
     "execution_count": 16,
     "metadata": {},
     "output_type": "execute_result"
    }
   ],
   "source": [
    "checks.shape"
   ]
  },
  {
   "cell_type": "code",
   "execution_count": null,
   "id": "4fe27100",
   "metadata": {},
   "outputs": [
    {
     "name": "stdout",
     "output_type": "stream",
     "text": [
      "<class 'pandas.core.frame.DataFrame'>\n",
      "RangeIndex: 541 entries, 0 to 540\n",
      "Data columns (total 2 columns):\n",
      " #   Column      Non-Null Count  Dtype  \n",
      "---  ------      --------------  -----  \n",
      " 0   student_id  541 non-null    int64  \n",
      " 1   rev         541 non-null    float64\n",
      "dtypes: float64(1), int64(1)\n",
      "memory usage: 8.6 KB\n"
     ]
    }
   ],
   "source": [
    "checks.info()"
   ]
  },
  {
   "cell_type": "markdown",
   "id": "4456ff4d",
   "metadata": {},
   "source": [
    "## 1.3 A/B test<a class=\"anchor\" id=\"ab_test\"></a>"
   ]
  },
  {
   "cell_type": "markdown",
   "id": "b2f2b598",
   "metadata": {},
   "source": [
    "To properly process the results of an A/B test, it is necessary to answer some questions.\n",
    "\n",
    "### What metrics are we looking at during the analysis and why?\n",
    "\n",
    "We have data on user payments for the test period and data on site visits. Thus, we can calculate three metrics:\n",
    "\n",
    "- user conversion to purchase;\n",
    "- ARPU (Average Revenue Per User) - average revenue from all customers;\n",
    "- ARPPU (Average Revenue Per Paying User) - average revenue from paying customers.\n",
    "\n",
    "However, in the end, we will only calculate two metrics: conversion and ARPPU. Because the conversion did not change significantly, and ARPU and ARPPU are proportional to each other through conversion.\n",
    "\n",
    "### Are there any differences in the indicators and what can they be associated with?\n",
    "\n",
    "There are differences in the indicators, and they can be caused by several reasons, but we assume that the data is correct and indicative. Thus, we will consider the difference in the data as a result of the test.\n",
    "\n",
    "### Are these differences statistically significant?\n",
    "\n",
    "There is no statistically significant difference in the conversion calculations.\n",
    "There is a statistically significant difference in ARPPU.\n",
    "Also, there is a difference when looking at data by quantiles. Details in the test results - [A/B test results](#ab_test_results)\n",
    "\n",
    "### Should we launch the new mechanism for all users?\n",
    "\n",
    "First, it is necessary to check the data on splitting, if everything is correct, and the system is splitting correctly, then you can launch the new mechanism. However, it is worth looking at users who are below the 20th percentile. For them, the average check decreased, which negatively affects profits. If there is any regularity among them, then it is worth identifying it and not launching the new mechanism for these users.\n",
    "\n",
    "**In general, the new mechanism is recommended for launch, as there is a statistically significant increase in the average check.**\n"
   ]
  },
  {
   "cell_type": "markdown",
   "id": "b011a631",
   "metadata": {},
   "source": [
    "### 1.3.1 Data preparation and conversion analysis<a class=\"anchor\" id=\"conversion\"></a> "
   ]
  },
  {
   "cell_type": "markdown",
   "id": "5cd7d97a",
   "metadata": {},
   "source": [
    "Let's combine the data frames based on the test data."
   ]
  },
  {
   "cell_type": "code",
   "execution_count": null,
   "id": "cffe8acc",
   "metadata": {},
   "outputs": [],
   "source": [
    "full_groups = groups.append(groups_add)"
   ]
  },
  {
   "cell_type": "code",
   "execution_count": null,
   "id": "edb7bc7a",
   "metadata": {},
   "outputs": [
    {
     "data": {
      "text/html": [
       "<div>\n",
       "<style scoped>\n",
       "    .dataframe tbody tr th:only-of-type {\n",
       "        vertical-align: middle;\n",
       "    }\n",
       "\n",
       "    .dataframe tbody tr th {\n",
       "        vertical-align: top;\n",
       "    }\n",
       "\n",
       "    .dataframe thead th {\n",
       "        text-align: right;\n",
       "    }\n",
       "</style>\n",
       "<table border=\"1\" class=\"dataframe\">\n",
       "  <thead>\n",
       "    <tr style=\"text-align: right;\">\n",
       "      <th></th>\n",
       "      <th>id</th>\n",
       "      <th>grp</th>\n",
       "    </tr>\n",
       "  </thead>\n",
       "  <tbody>\n",
       "    <tr>\n",
       "      <th>0</th>\n",
       "      <td>1489</td>\n",
       "      <td>B</td>\n",
       "    </tr>\n",
       "    <tr>\n",
       "      <th>1</th>\n",
       "      <td>1627</td>\n",
       "      <td>A</td>\n",
       "    </tr>\n",
       "    <tr>\n",
       "      <th>2</th>\n",
       "      <td>1768</td>\n",
       "      <td>B</td>\n",
       "    </tr>\n",
       "    <tr>\n",
       "      <th>3</th>\n",
       "      <td>1783</td>\n",
       "      <td>B</td>\n",
       "    </tr>\n",
       "    <tr>\n",
       "      <th>4</th>\n",
       "      <td>1794</td>\n",
       "      <td>A</td>\n",
       "    </tr>\n",
       "  </tbody>\n",
       "</table>\n",
       "</div>"
      ],
      "text/plain": [
       "     id grp\n",
       "0  1489   B\n",
       "1  1627   A\n",
       "2  1768   B\n",
       "3  1783   B\n",
       "4  1794   A"
      ]
     },
     "execution_count": 19,
     "metadata": {},
     "output_type": "execute_result"
    }
   ],
   "source": [
    "full_groups.head()"
   ]
  },
  {
   "cell_type": "code",
   "execution_count": null,
   "id": "3f2ed618",
   "metadata": {},
   "outputs": [
    {
     "data": {
      "text/plain": [
       "(74576, 2)"
      ]
     },
     "execution_count": 20,
     "metadata": {},
     "output_type": "execute_result"
    }
   ],
   "source": [
    "full_groups.shape"
   ]
  },
  {
   "cell_type": "code",
   "execution_count": null,
   "id": "bb34be98",
   "metadata": {},
   "outputs": [
    {
     "data": {
      "text/plain": [
       "74576"
      ]
     },
     "execution_count": 21,
     "metadata": {},
     "output_type": "execute_result"
    }
   ],
   "source": [
    "full_groups.id.nunique()"
   ]
  },
  {
   "cell_type": "markdown",
   "id": "38022b82",
   "metadata": {},
   "source": [
    "Based on the sum of unique IDs, we can see that there were no duplicates in groups and groups_add.\n",
    "___\n",
    "Let's take a look at the number of users in the control and target groups."
   ]
  },
  {
   "cell_type": "code",
   "execution_count": null,
   "id": "7e071e6e",
   "metadata": {},
   "outputs": [
    {
     "data": {
      "text/plain": [
       "<AxesSubplot:xlabel='grp', ylabel='count'>"
      ]
     },
     "execution_count": 22,
     "metadata": {},
     "output_type": "execute_result"
    },
    {
     "data": {
      "image/png": "[encoded data removed]",
      "text/plain": [
       "<Figure size 640x480 with 1 Axes>"
      ]
     },
     "metadata": {},
     "output_type": "display_data"
    }
   ],
   "source": [
    "sns.countplot(x=full_groups[\"grp\"])"
   ]
  },
  {
   "cell_type": "markdown",
   "id": "ed6b045d",
   "metadata": {},
   "source": [
    "We will merge the tables full_group and active_studs, and then with the checks table. This is done to obtain real data, since there are students who did not log in to the platform but paid for the trial period, i.e. they show revenue, but did not participate in the test because they did not log in to the platform and did not see the changes."
   ]
  },
  {
   "cell_type": "code",
   "execution_count": null,
   "id": "28523207",
   "metadata": {},
   "outputs": [
    {
     "data": {
      "text/html": [
       "<div>\n",
       "<style scoped>\n",
       "    .dataframe tbody tr th:only-of-type {\n",
       "        vertical-align: middle;\n",
       "    }\n",
       "\n",
       "    .dataframe tbody tr th {\n",
       "        vertical-align: top;\n",
       "    }\n",
       "\n",
       "    .dataframe thead th {\n",
       "        text-align: right;\n",
       "    }\n",
       "</style>\n",
       "<table border=\"1\" class=\"dataframe\">\n",
       "  <thead>\n",
       "    <tr style=\"text-align: right;\">\n",
       "      <th></th>\n",
       "      <th>id</th>\n",
       "      <th>grp</th>\n",
       "    </tr>\n",
       "  </thead>\n",
       "  <tbody>\n",
       "    <tr>\n",
       "      <th>0</th>\n",
       "      <td>1489</td>\n",
       "      <td>B</td>\n",
       "    </tr>\n",
       "    <tr>\n",
       "      <th>1</th>\n",
       "      <td>1627</td>\n",
       "      <td>A</td>\n",
       "    </tr>\n",
       "    <tr>\n",
       "      <th>2</th>\n",
       "      <td>1768</td>\n",
       "      <td>B</td>\n",
       "    </tr>\n",
       "    <tr>\n",
       "      <th>3</th>\n",
       "      <td>1783</td>\n",
       "      <td>B</td>\n",
       "    </tr>\n",
       "    <tr>\n",
       "      <th>4</th>\n",
       "      <td>1794</td>\n",
       "      <td>A</td>\n",
       "    </tr>\n",
       "    <tr>\n",
       "      <th>...</th>\n",
       "      <td>...</td>\n",
       "      <td>...</td>\n",
       "    </tr>\n",
       "    <tr>\n",
       "      <th>87</th>\n",
       "      <td>200247820</td>\n",
       "      <td>B</td>\n",
       "    </tr>\n",
       "    <tr>\n",
       "      <th>88</th>\n",
       "      <td>201032527</td>\n",
       "      <td>B</td>\n",
       "    </tr>\n",
       "    <tr>\n",
       "      <th>89</th>\n",
       "      <td>201067612</td>\n",
       "      <td>B</td>\n",
       "    </tr>\n",
       "    <tr>\n",
       "      <th>90</th>\n",
       "      <td>201067653</td>\n",
       "      <td>B</td>\n",
       "    </tr>\n",
       "    <tr>\n",
       "      <th>91</th>\n",
       "      <td>201067659</td>\n",
       "      <td>B</td>\n",
       "    </tr>\n",
       "  </tbody>\n",
       "</table>\n",
       "<p>74576 rows × 2 columns</p>\n",
       "</div>"
      ],
      "text/plain": [
       "           id grp\n",
       "0        1489   B\n",
       "1        1627   A\n",
       "2        1768   B\n",
       "3        1783   B\n",
       "4        1794   A\n",
       "..        ...  ..\n",
       "87  200247820   B\n",
       "88  201032527   B\n",
       "89  201067612   B\n",
       "90  201067653   B\n",
       "91  201067659   B\n",
       "\n",
       "[74576 rows x 2 columns]"
      ]
     },
     "execution_count": 23,
     "metadata": {},
     "output_type": "execute_result"
    }
   ],
   "source": [
    "full_groups"
   ]
  },
  {
   "cell_type": "code",
   "execution_count": null,
   "id": "f5ffd574",
   "metadata": {},
   "outputs": [],
   "source": [
    "full_groups_active = full_groups.merge(active_studs, how='inner', left_on='id', right_on='student_id')"
   ]
  },
  {
   "cell_type": "markdown",
   "id": "e968a99d",
   "metadata": {},
   "source": [
    "In this dataframe *full_groups_active*, there are users who:\n",
    "\n",
    "* participated in the test\n",
    "* visited the site during the test."
   ]
  },
  {
   "cell_type": "code",
   "execution_count": null,
   "id": "d3162e20",
   "metadata": {},
   "outputs": [
    {
     "data": {
      "text/html": [
       "<div>\n",
       "<style scoped>\n",
       "    .dataframe tbody tr th:only-of-type {\n",
       "        vertical-align: middle;\n",
       "    }\n",
       "\n",
       "    .dataframe tbody tr th {\n",
       "        vertical-align: top;\n",
       "    }\n",
       "\n",
       "    .dataframe thead th {\n",
       "        text-align: right;\n",
       "    }\n",
       "</style>\n",
       "<table border=\"1\" class=\"dataframe\">\n",
       "  <thead>\n",
       "    <tr style=\"text-align: right;\">\n",
       "      <th></th>\n",
       "      <th>id</th>\n",
       "      <th>grp</th>\n",
       "      <th>student_id</th>\n",
       "    </tr>\n",
       "  </thead>\n",
       "  <tbody>\n",
       "    <tr>\n",
       "      <th>0</th>\n",
       "      <td>1627</td>\n",
       "      <td>A</td>\n",
       "      <td>1627</td>\n",
       "    </tr>\n",
       "    <tr>\n",
       "      <th>1</th>\n",
       "      <td>2085</td>\n",
       "      <td>B</td>\n",
       "      <td>2085</td>\n",
       "    </tr>\n",
       "    <tr>\n",
       "      <th>2</th>\n",
       "      <td>2215</td>\n",
       "      <td>B</td>\n",
       "      <td>2215</td>\n",
       "    </tr>\n",
       "    <tr>\n",
       "      <th>3</th>\n",
       "      <td>3391</td>\n",
       "      <td>A</td>\n",
       "      <td>3391</td>\n",
       "    </tr>\n",
       "    <tr>\n",
       "      <th>4</th>\n",
       "      <td>3401</td>\n",
       "      <td>B</td>\n",
       "      <td>3401</td>\n",
       "    </tr>\n",
       "    <tr>\n",
       "      <th>...</th>\n",
       "      <td>...</td>\n",
       "      <td>...</td>\n",
       "      <td>...</td>\n",
       "    </tr>\n",
       "    <tr>\n",
       "      <th>8336</th>\n",
       "      <td>5760471</td>\n",
       "      <td>B</td>\n",
       "      <td>5760471</td>\n",
       "    </tr>\n",
       "    <tr>\n",
       "      <th>8337</th>\n",
       "      <td>5777081</td>\n",
       "      <td>B</td>\n",
       "      <td>5777081</td>\n",
       "    </tr>\n",
       "    <tr>\n",
       "      <th>8338</th>\n",
       "      <td>5870856</td>\n",
       "      <td>A</td>\n",
       "      <td>5870856</td>\n",
       "    </tr>\n",
       "    <tr>\n",
       "      <th>8339</th>\n",
       "      <td>5945085</td>\n",
       "      <td>B</td>\n",
       "      <td>5945085</td>\n",
       "    </tr>\n",
       "    <tr>\n",
       "      <th>8340</th>\n",
       "      <td>5951797</td>\n",
       "      <td>B</td>\n",
       "      <td>5951797</td>\n",
       "    </tr>\n",
       "  </tbody>\n",
       "</table>\n",
       "<p>8341 rows × 3 columns</p>\n",
       "</div>"
      ],
      "text/plain": [
       "           id grp  student_id\n",
       "0        1627   A        1627\n",
       "1        2085   B        2085\n",
       "2        2215   B        2215\n",
       "3        3391   A        3391\n",
       "4        3401   B        3401\n",
       "...       ...  ..         ...\n",
       "8336  5760471   B     5760471\n",
       "8337  5777081   B     5777081\n",
       "8338  5870856   A     5870856\n",
       "8339  5945085   B     5945085\n",
       "8340  5951797   B     5951797\n",
       "\n",
       "[8341 rows x 3 columns]"
      ]
     },
     "execution_count": 25,
     "metadata": {},
     "output_type": "execute_result"
    }
   ],
   "source": [
    "full_groups_active"
   ]
  },
  {
   "cell_type": "code",
   "execution_count": null,
   "id": "b5a16414",
   "metadata": {},
   "outputs": [],
   "source": [
    "full_groups_active_rev = full_groups_active.merge(checks, how='left', on='student_id')"
   ]
  },
  {
   "cell_type": "markdown",
   "id": "e8515b35",
   "metadata": {},
   "source": [
    "In this dataframe *full_groups_active_rev*, there are users who:\n",
    "\n",
    "* participated in the test  \n",
    "* visited the site during the test  \n",
    "* made payment on the site, i.e. saw either the old or the new payment mechanism on the site."
   ]
  },
  {
   "cell_type": "code",
   "execution_count": null,
   "id": "2cb0ff4e",
   "metadata": {},
   "outputs": [
    {
     "data": {
      "text/html": [
       "<div>\n",
       "<style scoped>\n",
       "    .dataframe tbody tr th:only-of-type {\n",
       "        vertical-align: middle;\n",
       "    }\n",
       "\n",
       "    .dataframe tbody tr th {\n",
       "        vertical-align: top;\n",
       "    }\n",
       "\n",
       "    .dataframe thead th {\n",
       "        text-align: right;\n",
       "    }\n",
       "</style>\n",
       "<table border=\"1\" class=\"dataframe\">\n",
       "  <thead>\n",
       "    <tr style=\"text-align: right;\">\n",
       "      <th></th>\n",
       "      <th>id</th>\n",
       "      <th>grp</th>\n",
       "      <th>student_id</th>\n",
       "      <th>rev</th>\n",
       "    </tr>\n",
       "  </thead>\n",
       "  <tbody>\n",
       "    <tr>\n",
       "      <th>0</th>\n",
       "      <td>1627</td>\n",
       "      <td>A</td>\n",
       "      <td>1627</td>\n",
       "      <td>990.0</td>\n",
       "    </tr>\n",
       "    <tr>\n",
       "      <th>1</th>\n",
       "      <td>2085</td>\n",
       "      <td>B</td>\n",
       "      <td>2085</td>\n",
       "      <td>NaN</td>\n",
       "    </tr>\n",
       "    <tr>\n",
       "      <th>2</th>\n",
       "      <td>2215</td>\n",
       "      <td>B</td>\n",
       "      <td>2215</td>\n",
       "      <td>NaN</td>\n",
       "    </tr>\n",
       "    <tr>\n",
       "      <th>3</th>\n",
       "      <td>3391</td>\n",
       "      <td>A</td>\n",
       "      <td>3391</td>\n",
       "      <td>NaN</td>\n",
       "    </tr>\n",
       "    <tr>\n",
       "      <th>4</th>\n",
       "      <td>3401</td>\n",
       "      <td>B</td>\n",
       "      <td>3401</td>\n",
       "      <td>NaN</td>\n",
       "    </tr>\n",
       "    <tr>\n",
       "      <th>...</th>\n",
       "      <td>...</td>\n",
       "      <td>...</td>\n",
       "      <td>...</td>\n",
       "      <td>...</td>\n",
       "    </tr>\n",
       "    <tr>\n",
       "      <th>8336</th>\n",
       "      <td>5760471</td>\n",
       "      <td>B</td>\n",
       "      <td>5760471</td>\n",
       "      <td>NaN</td>\n",
       "    </tr>\n",
       "    <tr>\n",
       "      <th>8337</th>\n",
       "      <td>5777081</td>\n",
       "      <td>B</td>\n",
       "      <td>5777081</td>\n",
       "      <td>NaN</td>\n",
       "    </tr>\n",
       "    <tr>\n",
       "      <th>8338</th>\n",
       "      <td>5870856</td>\n",
       "      <td>A</td>\n",
       "      <td>5870856</td>\n",
       "      <td>NaN</td>\n",
       "    </tr>\n",
       "    <tr>\n",
       "      <th>8339</th>\n",
       "      <td>5945085</td>\n",
       "      <td>B</td>\n",
       "      <td>5945085</td>\n",
       "      <td>NaN</td>\n",
       "    </tr>\n",
       "    <tr>\n",
       "      <th>8340</th>\n",
       "      <td>5951797</td>\n",
       "      <td>B</td>\n",
       "      <td>5951797</td>\n",
       "      <td>NaN</td>\n",
       "    </tr>\n",
       "  </tbody>\n",
       "</table>\n",
       "<p>8341 rows × 4 columns</p>\n",
       "</div>"
      ],
      "text/plain": [
       "           id grp  student_id    rev\n",
       "0        1627   A        1627  990.0\n",
       "1        2085   B        2085    NaN\n",
       "2        2215   B        2215    NaN\n",
       "3        3391   A        3391    NaN\n",
       "4        3401   B        3401    NaN\n",
       "...       ...  ..         ...    ...\n",
       "8336  5760471   B     5760471    NaN\n",
       "8337  5777081   B     5777081    NaN\n",
       "8338  5870856   A     5870856    NaN\n",
       "8339  5945085   B     5945085    NaN\n",
       "8340  5951797   B     5951797    NaN\n",
       "\n",
       "[8341 rows x 4 columns]"
      ]
     },
     "execution_count": 27,
     "metadata": {},
     "output_type": "execute_result"
    }
   ],
   "source": [
    "full_groups_active_rev"
   ]
  },
  {
   "cell_type": "markdown",
   "id": "96ef9ce8",
   "metadata": {},
   "source": [
    "remove the redundand column"
   ]
  },
  {
   "cell_type": "code",
   "execution_count": null,
   "id": "8b4c8e9d",
   "metadata": {},
   "outputs": [],
   "source": [
    "full_groups_active_rev = full_groups_active_rev.drop(columns = 'student_id')"
   ]
  },
  {
   "cell_type": "markdown",
   "id": "7d148ec6",
   "metadata": {},
   "source": [
    "Add a column that will show whether the student converted to payment."
   ]
  },
  {
   "cell_type": "code",
   "execution_count": null,
   "id": "8789df63",
   "metadata": {},
   "outputs": [],
   "source": [
    "full_groups_active_rev['is_converted'] = ~full_groups_active_rev.rev.isna()"
   ]
  },
  {
   "cell_type": "code",
   "execution_count": null,
   "id": "c0b85639",
   "metadata": {},
   "outputs": [
    {
     "data": {
      "text/html": [
       "<div>\n",
       "<style scoped>\n",
       "    .dataframe tbody tr th:only-of-type {\n",
       "        vertical-align: middle;\n",
       "    }\n",
       "\n",
       "    .dataframe tbody tr th {\n",
       "        vertical-align: top;\n",
       "    }\n",
       "\n",
       "    .dataframe thead th {\n",
       "        text-align: right;\n",
       "    }\n",
       "</style>\n",
       "<table border=\"1\" class=\"dataframe\">\n",
       "  <thead>\n",
       "    <tr style=\"text-align: right;\">\n",
       "      <th></th>\n",
       "      <th>id</th>\n",
       "      <th>grp</th>\n",
       "      <th>rev</th>\n",
       "      <th>is_converted</th>\n",
       "    </tr>\n",
       "  </thead>\n",
       "  <tbody>\n",
       "    <tr>\n",
       "      <th>0</th>\n",
       "      <td>1627</td>\n",
       "      <td>A</td>\n",
       "      <td>990.0</td>\n",
       "      <td>True</td>\n",
       "    </tr>\n",
       "    <tr>\n",
       "      <th>1</th>\n",
       "      <td>2085</td>\n",
       "      <td>B</td>\n",
       "      <td>NaN</td>\n",
       "      <td>False</td>\n",
       "    </tr>\n",
       "    <tr>\n",
       "      <th>2</th>\n",
       "      <td>2215</td>\n",
       "      <td>B</td>\n",
       "      <td>NaN</td>\n",
       "      <td>False</td>\n",
       "    </tr>\n",
       "    <tr>\n",
       "      <th>3</th>\n",
       "      <td>3391</td>\n",
       "      <td>A</td>\n",
       "      <td>NaN</td>\n",
       "      <td>False</td>\n",
       "    </tr>\n",
       "    <tr>\n",
       "      <th>4</th>\n",
       "      <td>3401</td>\n",
       "      <td>B</td>\n",
       "      <td>NaN</td>\n",
       "      <td>False</td>\n",
       "    </tr>\n",
       "  </tbody>\n",
       "</table>\n",
       "</div>"
      ],
      "text/plain": [
       "     id grp    rev  is_converted\n",
       "0  1627   A  990.0          True\n",
       "1  2085   B    NaN         False\n",
       "2  2215   B    NaN         False\n",
       "3  3391   A    NaN         False\n",
       "4  3401   B    NaN         False"
      ]
     },
     "execution_count": 30,
     "metadata": {},
     "output_type": "execute_result"
    }
   ],
   "source": [
    "full_groups_active_rev.head()"
   ]
  },
  {
   "cell_type": "code",
   "execution_count": null,
   "id": "fc641912",
   "metadata": {},
   "outputs": [
    {
     "data": {
      "text/plain": [
       "<AxesSubplot:xlabel='grp', ylabel='count'>"
      ]
     },
     "execution_count": 31,
     "metadata": {},
     "output_type": "execute_result"
    },
    {
     "data": {
      "image/png": "[encoded data removed]",
      "text/plain": [
       "<Figure size 640x480 with 1 Axes>"
      ]
     },
     "metadata": {},
     "output_type": "display_data"
    }
   ],
   "source": [
    "sns.countplot(x=full_groups_active_rev[\"grp\"])"
   ]
  },
  {
   "cell_type": "markdown",
   "id": "195b399b",
   "metadata": {},
   "source": [
    "As seen from the plot, group B has more users than group A. This raises suspicions about incorrect splitting, however, we do not have enough information to make any clear conclusion. Therefore, we assume that the data is real and correct.\n",
    "___"
   ]
  },
  {
   "cell_type": "markdown",
   "id": "4ce68b2b",
   "metadata": {},
   "source": [
    "Calculate the conversion for both groups"
   ]
  },
  {
   "cell_type": "code",
   "execution_count": null,
   "id": "627a0746",
   "metadata": {},
   "outputs": [],
   "source": [
    "conversion = full_groups_active_rev\\\n",
    "                            .query(\"grp == 'A' & is_converted == True\")\\\n",
    "                            .groupby('grp',)\\\n",
    "                            .agg({'id':'count'})\\\n",
    "                            / full_groups_active_rev[full_groups_active_rev.grp == 'A'].id.count() * 100\n",
    "\n",
    "conversion = conversion.append(full_groups_active_rev\\\n",
    "                            .query(\"grp == 'B' & is_converted == True\")\\\n",
    "                            .groupby('grp')\\\n",
    "                            .agg({'id':'count'})\\\n",
    "                            / full_groups_active_rev[full_groups_active_rev.grp == 'B'].id.count() * 100\n",
    "                                  )\n",
    "conversion = conversion.reset_index().rename(columns={'id':'conversion'})"
   ]
  },
  {
   "cell_type": "code",
   "execution_count": null,
   "id": "a27b8710",
   "metadata": {},
   "outputs": [
    {
     "data": {
      "text/html": [
       "<div>\n",
       "<style scoped>\n",
       "    .dataframe tbody tr th:only-of-type {\n",
       "        vertical-align: middle;\n",
       "    }\n",
       "\n",
       "    .dataframe tbody tr th {\n",
       "        vertical-align: top;\n",
       "    }\n",
       "\n",
       "    .dataframe thead th {\n",
       "        text-align: right;\n",
       "    }\n",
       "</style>\n",
       "<table border=\"1\" class=\"dataframe\">\n",
       "  <thead>\n",
       "    <tr style=\"text-align: right;\">\n",
       "      <th></th>\n",
       "      <th>grp</th>\n",
       "      <th>conversion</th>\n",
       "    </tr>\n",
       "  </thead>\n",
       "  <tbody>\n",
       "    <tr>\n",
       "      <th>0</th>\n",
       "      <td>A</td>\n",
       "      <td>5.071521</td>\n",
       "    </tr>\n",
       "    <tr>\n",
       "      <th>1</th>\n",
       "      <td>B</td>\n",
       "      <td>4.615611</td>\n",
       "    </tr>\n",
       "  </tbody>\n",
       "</table>\n",
       "</div>"
      ],
      "text/plain": [
       "  grp  conversion\n",
       "0   A    5.071521\n",
       "1   B    4.615611"
      ]
     },
     "execution_count": 33,
     "metadata": {},
     "output_type": "execute_result"
    }
   ],
   "source": [
    "conversion"
   ]
  },
  {
   "cell_type": "markdown",
   "id": "ad42d492",
   "metadata": {},
   "source": [
    "\"Conversion in group B decreased by 0.46 percentage points (a decrease of 8.99% in group B compared to group A). \n",
    "___\n",
    "It is necessary to determine whether this decrease in conversion is statistically significant.\""
   ]
  },
  {
   "cell_type": "code",
   "execution_count": null,
   "id": "68504ea2",
   "metadata": {},
   "outputs": [
    {
     "data": {
      "text/html": [
       "<div>\n",
       "<style scoped>\n",
       "    .dataframe tbody tr th:only-of-type {\n",
       "        vertical-align: middle;\n",
       "    }\n",
       "\n",
       "    .dataframe tbody tr th {\n",
       "        vertical-align: top;\n",
       "    }\n",
       "\n",
       "    .dataframe thead th {\n",
       "        text-align: right;\n",
       "    }\n",
       "</style>\n",
       "<table border=\"1\" class=\"dataframe\">\n",
       "  <thead>\n",
       "    <tr style=\"text-align: right;\">\n",
       "      <th>grp</th>\n",
       "      <th>A</th>\n",
       "      <th>B</th>\n",
       "    </tr>\n",
       "    <tr>\n",
       "      <th>is_converted</th>\n",
       "      <th></th>\n",
       "      <th></th>\n",
       "    </tr>\n",
       "  </thead>\n",
       "  <tbody>\n",
       "    <tr>\n",
       "      <th>False</th>\n",
       "      <td>1460</td>\n",
       "      <td>6489</td>\n",
       "    </tr>\n",
       "    <tr>\n",
       "      <th>True</th>\n",
       "      <td>78</td>\n",
       "      <td>314</td>\n",
       "    </tr>\n",
       "  </tbody>\n",
       "</table>\n",
       "</div>"
      ],
      "text/plain": [
       "grp              A     B\n",
       "is_converted            \n",
       "False         1460  6489\n",
       "True            78   314"
      ]
     },
     "execution_count": 34,
     "metadata": {},
     "output_type": "execute_result"
    }
   ],
   "source": [
    "pd.crosstab(full_groups_active_rev.is_converted, full_groups_active_rev.grp)"
   ]
  },
  {
   "cell_type": "code",
   "execution_count": null,
   "id": "c4de301b",
   "metadata": {},
   "outputs": [],
   "source": [
    "stat, p, dof, expected = chi2_contingency(pd.crosstab(full_groups_active_rev.is_converted, full_groups_active_rev.grp))"
   ]
  },
  {
   "cell_type": "code",
   "execution_count": null,
   "id": "21ed9cc1",
   "metadata": {
    "scrolled": true
   },
   "outputs": [
    {
     "data": {
      "text/plain": [
       "(0.48480826522557896, 0.48625240457231045)"
      ]
     },
     "execution_count": 36,
     "metadata": {},
     "output_type": "execute_result"
    }
   ],
   "source": [
    "stat, p"
   ]
  },
  {
   "cell_type": "markdown",
   "id": "4e2ccf18",
   "metadata": {},
   "source": [
    "### 1.3.2 A/B test results for conversion rate <a class=\"anchor\" id=\"conversion_results\"></a> "
   ]
  },
  {
   "cell_type": "markdown",
   "id": "bdd2ad83",
   "metadata": {},
   "source": [
    "As the p-value is significantly higher than 0.05, we have no grounds to reject the null hypothesis.\n",
    "\n",
    "In other words, **the decrease in conversion rate is not statistically significant.**\n",
    "___"
   ]
  },
  {
   "cell_type": "markdown",
   "id": "3845aa3d",
   "metadata": {},
   "source": [
    "### 1.3.3 Data Preparation and ARPPU Analysis <a class=\"anchor\" id=\"arppu\"></a>"
   ]
  },
  {
   "cell_type": "code",
   "execution_count": null,
   "id": "8b9bce9a",
   "metadata": {},
   "outputs": [
    {
     "data": {
      "text/html": [
       "<div>\n",
       "<style scoped>\n",
       "    .dataframe tbody tr th:only-of-type {\n",
       "        vertical-align: middle;\n",
       "    }\n",
       "\n",
       "    .dataframe tbody tr th {\n",
       "        vertical-align: top;\n",
       "    }\n",
       "\n",
       "    .dataframe thead th {\n",
       "        text-align: right;\n",
       "    }\n",
       "</style>\n",
       "<table border=\"1\" class=\"dataframe\">\n",
       "  <thead>\n",
       "    <tr style=\"text-align: right;\">\n",
       "      <th></th>\n",
       "      <th>grp</th>\n",
       "      <th>rev</th>\n",
       "    </tr>\n",
       "  </thead>\n",
       "  <tbody>\n",
       "    <tr>\n",
       "      <th>0</th>\n",
       "      <td>A</td>\n",
       "      <td>933.589744</td>\n",
       "    </tr>\n",
       "    <tr>\n",
       "      <th>1</th>\n",
       "      <td>B</td>\n",
       "      <td>1257.878992</td>\n",
       "    </tr>\n",
       "  </tbody>\n",
       "</table>\n",
       "</div>"
      ],
      "text/plain": [
       "  grp          rev\n",
       "0   A   933.589744\n",
       "1   B  1257.878992"
      ]
     },
     "execution_count": 37,
     "metadata": {},
     "output_type": "execute_result"
    }
   ],
   "source": [
    "full_groups_active_rev.groupby('grp',as_index=False).agg({'rev':'mean'})"
   ]
  },
  {
   "cell_type": "code",
   "execution_count": null,
   "id": "7948c247",
   "metadata": {},
   "outputs": [
    {
     "data": {
      "text/html": [
       "<div>\n",
       "<style scoped>\n",
       "    .dataframe tbody tr th:only-of-type {\n",
       "        vertical-align: middle;\n",
       "    }\n",
       "\n",
       "    .dataframe tbody tr th {\n",
       "        vertical-align: top;\n",
       "    }\n",
       "\n",
       "    .dataframe thead th {\n",
       "        text-align: right;\n",
       "    }\n",
       "</style>\n",
       "<table border=\"1\" class=\"dataframe\">\n",
       "  <thead>\n",
       "    <tr style=\"text-align: right;\">\n",
       "      <th></th>\n",
       "      <th>grp</th>\n",
       "      <th>rev</th>\n",
       "    </tr>\n",
       "  </thead>\n",
       "  <tbody>\n",
       "    <tr>\n",
       "      <th>0</th>\n",
       "      <td>A</td>\n",
       "      <td>585.0</td>\n",
       "    </tr>\n",
       "    <tr>\n",
       "      <th>1</th>\n",
       "      <td>B</td>\n",
       "      <td>1140.0</td>\n",
       "    </tr>\n",
       "  </tbody>\n",
       "</table>\n",
       "</div>"
      ],
      "text/plain": [
       "  grp     rev\n",
       "0   A   585.0\n",
       "1   B  1140.0"
      ]
     },
     "execution_count": 38,
     "metadata": {},
     "output_type": "execute_result"
    }
   ],
   "source": [
    "full_groups_active_rev.groupby('grp',as_index=False).agg({'rev':'median'})"
   ]
  },
  {
   "cell_type": "markdown",
   "id": "16d86e28",
   "metadata": {},
   "source": [
    "\"Average revenue in group B increased by 324.3, which represents a growth of 34.7%. \n",
    "___\n",
    "It is necessary to determine whether this increase in average revenue is statistically significant.\""
   ]
  },
  {
   "cell_type": "markdown",
   "id": "9794dc3f",
   "metadata": {},
   "source": [
    "#### Checking for normality using diagrams <a class=\"anchor\" id=\"normal_graph\"></a>"
   ]
  },
  {
   "cell_type": "code",
   "execution_count": null,
   "id": "8f8766be",
   "metadata": {},
   "outputs": [],
   "source": [
    "df_grp_A = full_groups_active_rev.query(\"grp == 'A' and is_converted == True\")\n",
    "df_grp_B = full_groups_active_rev.query(\"grp == 'B' and is_converted == True\")"
   ]
  },
  {
   "cell_type": "code",
   "execution_count": null,
   "id": "523c7f9e",
   "metadata": {},
   "outputs": [
    {
     "data": {
      "text/plain": [
       "<AxesSubplot:xlabel='grp', ylabel='rev'>"
      ]
     },
     "execution_count": 40,
     "metadata": {},
     "output_type": "execute_result"
    },
    {
     "data": {
      "image/png": "[encoded data removed]",
      "text/plain": [
       "<Figure size 640x480 with 1 Axes>"
      ]
     },
     "metadata": {},
     "output_type": "display_data"
    }
   ],
   "source": [
    "#data=work_df.query(\"rev > 0\"), y=\"rev\", x=\"grp\"\n",
    "sns.boxplot(data=full_groups_active_rev, y='rev', x='grp')"
   ]
  },
  {
   "cell_type": "code",
   "execution_count": null,
   "id": "039dd763",
   "metadata": {},
   "outputs": [
    {
     "data": {
      "image/png": "[encoded data removed]",
      "text/plain": [
       "<Figure size 1411.11x700 with 2 Axes>"
      ]
     },
     "metadata": {},
     "output_type": "display_data"
    }
   ],
   "source": [
    "data = full_groups_active_rev[[\"grp\", \"rev\"]]\n",
    "g = sns.FacetGrid(data, col=\"grp\", height=7)\n",
    "g.map(sns.histplot, \"rev\")\n",
    "g.add_legend();"
   ]
  },
  {
   "cell_type": "markdown",
   "id": "86d52b7e",
   "metadata": {},
   "source": [
    "It can be seen that the data is not normally distributed.\n",
    "The graphs show that the 'rev' variable has a non-normal distribution and a large number of outliers."
   ]
  },
  {
   "cell_type": "markdown",
   "id": "ef37a914",
   "metadata": {},
   "source": [
    "#### Checking for Normal Distribution using Shapiro-Wilk Test <a class=\"anchor\" id=\"normal_shapiro\"></a>\n"
   ]
  },
  {
   "cell_type": "code",
   "execution_count": null,
   "id": "a7ac598c",
   "metadata": {},
   "outputs": [
    {
     "data": {
      "text/plain": [
       "ShapiroResult(statistic=0.7353236079216003, pvalue=1.4986822893803264e-10)"
      ]
     },
     "execution_count": 42,
     "metadata": {},
     "output_type": "execute_result"
    }
   ],
   "source": [
    "shapiro_test = ss.shapiro(df_grp_A.rev)\n",
    "shapiro_test"
   ]
  },
  {
   "cell_type": "code",
   "execution_count": null,
   "id": "a98fef0c",
   "metadata": {},
   "outputs": [
    {
     "data": {
      "text/plain": [
       "ShapiroResult(statistic=0.8547235727310181, pvalue=1.5437024585965894e-16)"
      ]
     },
     "execution_count": 43,
     "metadata": {},
     "output_type": "execute_result"
    }
   ],
   "source": [
    "shapiro_test = ss.shapiro(df_grp_B.rev)\n",
    "shapiro_test"
   ]
  },
  {
   "cell_type": "markdown",
   "id": "a993e5ca",
   "metadata": {},
   "source": [
    "**Conclusion**  \n",
    "Since the p-value is significantly less than 0.05, we reject the null hypothesis. In other words, **the data on revenue is not normally distributed.**"
   ]
  },
  {
   "cell_type": "markdown",
   "id": "1877c54c",
   "metadata": {},
   "source": [
    "#### Comparing Groups using t-test <a class=\"anchor\" id=\"t_test\"></a>"
   ]
  },
  {
   "cell_type": "markdown",
   "id": "deeddd84",
   "metadata": {},
   "source": [
    "The t-test can be used for groups with a non-normal distribution. The homogeneity of variance is a more important criterion for the t-test. We will check the homogeneity of variance using the Levene's test."
   ]
  },
  {
   "cell_type": "code",
   "execution_count": null,
   "id": "e527752f",
   "metadata": {},
   "outputs": [
    {
     "data": {
      "text/plain": [
       "LeveneResult(statistic=3.075681699981606, pvalue=0.08025675761347022)"
      ]
     },
     "execution_count": 44,
     "metadata": {},
     "output_type": "execute_result"
    }
   ],
   "source": [
    "ss.levene(df_grp_A.rev, df_grp_B.rev, center='median')"
   ]
  },
  {
   "cell_type": "markdown",
   "id": "19f9533f",
   "metadata": {},
   "source": [
    "In the Levene test, the null hypothesis is that all data have equal variances. Since the p-value is greater than 0.05, we have no grounds to reject the null hypothesis.   \n",
    "Therefore, our **both samples have equal variances and we can conduct t-test.**   \n",
    "Note: for the Levene test, we use the 'median' parameter for non-normal distributions. ([link](https://docs.scipy.org/doc/scipy/reference/generated/scipy.stats.levene.html))\n"
   ]
  },
  {
   "cell_type": "code",
   "execution_count": null,
   "id": "8cfcfdde",
   "metadata": {},
   "outputs": [
    {
     "data": {
      "text/plain": [
       "Ttest_indResult(statistic=-3.1337795050930985, pvalue=0.0018562025265765867)"
      ]
     },
     "execution_count": 45,
     "metadata": {},
     "output_type": "execute_result"
    }
   ],
   "source": [
    "ss.ttest_ind(df_grp_A.rev, df_grp_B.rev)"
   ]
  },
  {
   "cell_type": "markdown",
   "id": "18bb6538",
   "metadata": {},
   "source": [
    "#### Comparing Groups using Mann-Whitney <a class=\"anchor\" id=\"mann-whitney\"></a>\n"
   ]
  },
  {
   "cell_type": "code",
   "execution_count": null,
   "id": "5c240fbd",
   "metadata": {},
   "outputs": [
    {
     "data": {
      "text/plain": [
       "MannwhitneyuResult(statistic=9001.0, pvalue=0.0002511393831406922)"
      ]
     },
     "execution_count": 46,
     "metadata": {},
     "output_type": "execute_result"
    }
   ],
   "source": [
    "ss.mannwhitneyu(df_grp_A.rev, df_grp_B.rev)"
   ]
  },
  {
   "cell_type": "markdown",
   "id": "c393a096",
   "metadata": {},
   "source": [
    "The null hypothesis for the Mann-Whitney test is that two samples belong to the same population. \n",
    "___\n",
    "Since the p-value is less than 0.05, we can reject the null hypothesis and conclude that there is a statistically significant difference between the samples. In other words, there is a statistically significant difference in the distribution of ranks between these two samples (groups A and B)."
   ]
  },
  {
   "cell_type": "markdown",
   "id": "99ce0ba0",
   "metadata": {},
   "source": [
    "#### Comparing Groups using Bootstrap <a class=\"anchor\" id=\"bootstrap\"></a>\n"
   ]
  },
  {
   "cell_type": "markdown",
   "id": "ce97de3c",
   "metadata": {},
   "source": [
    "create a function, which will calculate bootstrap"
   ]
  },
  {
   "cell_type": "code",
   "execution_count": null,
   "id": "57edbb0b",
   "metadata": {},
   "outputs": [],
   "source": [
    "def get_bootstrap(\n",
    "    data_column_1, # numerical values of the first sample\n",
    "    data_column_2, # numerical values of the second sample\n",
    "    boot_it = 1000, # number of bootstrap subsamples\n",
    "    statistic = np.mean, # the statistic of interest\n",
    "    bootstrap_conf_level = 0.95, # significance level\n",
    "    quantile = 0.5,        # quantile, if using bootstrap for quantiles, defaults to 0.5\n",
    "    show_diagram = True\n",
    "):\n",
    "    boot_len = max([len(data_column_1), len(data_column_2)])\n",
    "    boot_data = []\n",
    "    for i in tqdm(range(boot_it)): # extract subsamples\n",
    "        samples_1 = data_column_1.sample(\n",
    "            boot_len, \n",
    "            replace = True # parameter for returning data\n",
    "        ).values\n",
    "        \n",
    "        samples_2 = data_column_2.sample(\n",
    "            boot_len, # to maintain variance, we take the same sample size\n",
    "            replace = True\n",
    "        ).values\n",
    "        \n",
    "        if statistic == np.quantile:\n",
    "            boot_data.append(statistic(samples_1-samples_2, quantile))\n",
    "        else:\n",
    "            boot_data.append(statistic(samples_1-samples_2)) \n",
    "    pd_boot_data = pd.DataFrame(boot_data)\n",
    "        \n",
    "    left_quant = (1 - bootstrap_conf_level)/2\n",
    "    right_quant = 1 - (1 - bootstrap_conf_level) / 2\n",
    "    quants = pd_boot_data.quantile([left_quant, right_quant])\n",
    "        \n",
    "    p_1 = norm.cdf(\n",
    "        x = 0, \n",
    "        loc = np.mean(boot_data), \n",
    "        scale = np.std(boot_data)\n",
    "    )\n",
    "    p_2 = norm.cdf(\n",
    "        x = 0, \n",
    "        loc = -np.mean(boot_data), \n",
    "        scale = np.std(boot_data)\n",
    "    )\n",
    "    p_value = min(p_1, p_2) * 2\n",
    "        \n",
    "    if show_diagram == True:\n",
    "        # Visualization\n",
    "        _, _, bars = plt.hist(pd_boot_data[0], bins = 50)\n",
    "        for bar in bars:\n",
    "            if abs(bar.get_x()) <= quants.iloc[0][0] or abs(bar.get_x()) >= quants.iloc[1][0]:\n",
    "                bar.set_facecolor('red')\n",
    "            else: \n",
    "                bar.set_facecolor('grey')\n",
    "                bar.set_edgecolor('black')\n",
    "\n",
    "        plt.style.use('ggplot')\n",
    "        plt.vlines(quants,ymin=0,ymax=50,linestyle='--')\n",
    "        plt.xlabel('boot_data')\n",
    "        plt.ylabel('frequency')\n",
    "        plt.title(\"Histogram of boot_data\")\n",
    "        plt.show()\n",
    "    else:\n",
    "        pass\n",
    "       \n",
    "    return {\"quants\": quants, \n",
    "            \"p_value\": p_value}"
   ]
  },
  {
   "cell_type": "markdown",
   "id": "ff233719",
   "metadata": {},
   "source": [
    "#### Bootstrap for mean value <a class=\"anchor\" id=\"bootstrap_mean\"></a>\n"
   ]
  },
  {
   "cell_type": "code",
   "execution_count": null,
   "id": "29bfceb3",
   "metadata": {},
   "outputs": [
    {
     "data": {
      "application/vnd.jupyter.widget-view+json": {
       "model_id": "be2e8d7d84bf4253a3a4e4a3d624fd2a",
       "version_major": 2,
       "version_minor": 0
      },
      "text/plain": [
       "  0%|          | 0/1000 [00:00<?, ?it/s]"
      ]
     },
     "metadata": {},
     "output_type": "display_data"
    },
    {
     "data": {
      "image/png": "[encoded data removed]",
      "text/plain": [
       "<Figure size 640x480 with 1 Axes>"
      ]
     },
     "metadata": {},
     "output_type": "display_data"
    },
    {
     "data": {
      "text/plain": [
       "{'quants':                 0\n",
       " 0.025  193.451839\n",
       " 0.975  448.185522,\n",
       " 'p_value': 1.211858474858098e-06}"
      ]
     },
     "execution_count": 48,
     "metadata": {},
     "output_type": "execute_result"
    }
   ],
   "source": [
    "get_bootstrap(\n",
    "    df_grp_B.rev, # numerical values of the first sample\n",
    "    df_grp_A.rev, # numerical values of the second sample\n",
    "    boot_it = 1000, # number of bootstrap sub-samples\n",
    "    statistic = np.mean, # the statistic of interest\n",
    "    bootstrap_conf_level = 0.95 # significance level\n",
    ")"
   ]
  },
  {
   "cell_type": "markdown",
   "id": "8599033f",
   "metadata": {},
   "source": [
    "## 1.3.4 A/B test results <a class=\"anchor\" id=\"ab_test_results\"></a>\n"
   ]
  },
  {
   "cell_type": "markdown",
   "id": "775116f6",
   "metadata": {},
   "source": [
    "* The t-test indicates a statistically significant difference in ARPPU between the groups.   \n",
    "* The Mann-Whitney test also shows that there is a statistically significant difference in ranks between the samples.   \n",
    "* Bootstrap analysis indicates a statistically significant increase in ARPPU for Group B. The range of ARPPU increase is between 196.9 to 462.3."
   ]
  },
  {
   "cell_type": "markdown",
   "id": "9526c5c4",
   "metadata": {},
   "source": [
    "___"
   ]
  },
  {
   "cell_type": "markdown",
   "id": "e7fed1c1",
   "metadata": {},
   "source": [
    "# Task 2. SQL <a class=\"anchor\" id=\"task_2\"></a>"
   ]
  },
  {
   "cell_type": "markdown",
   "id": "e43b8543",
   "metadata": {},
   "source": [
    "## Task 2.1 Counting Active Students<a class=\"anchor\" id=\"task_2_1\"></a>\n"
   ]
  },
  {
   "cell_type": "code",
   "execution_count": null,
   "id": "2164adcc",
   "metadata": {},
   "outputs": [],
   "source": [
    "connection_default = {'host': 'http://clickhouse.beslan.pro:8080',\n",
    "'database':'default',\n",
    "'user':'student',\n",
    "'password':'dpo_python_2020'\n",
    "}"
   ]
  },
  {
   "cell_type": "code",
   "execution_count": null,
   "id": "99cb1b16",
   "metadata": {},
   "outputs": [],
   "source": [
    "connection_test = dict(database='test',\n",
    "host='http://clickhouse.beslan.pro:8080',\n",
    "user='student-rw',\n",
    "password='656e2b0c9c')"
   ]
  },
  {
   "cell_type": "markdown",
   "id": "ad86845f",
   "metadata": {},
   "source": [
    "Since the database contains data only for October 30 and 31, 2021, it is not possible to filter the data for the current month.  \n",
    "However, below is the code in which you can change the date. To get data for the current month, you need to assign the value `toStartOfMonth(today())` to the variable `reporting_month`."
   ]
  },
  {
   "cell_type": "code",
   "execution_count": null,
   "id": "a4ce3378",
   "metadata": {},
   "outputs": [],
   "source": [
    "reporting_month = '\\'2021-10-01\\''               \n",
    "#reporting_month = 'toStartOfMonth(today())'   # Uncomment if you need to get data for the current month.\n",
    "\n",
    "q = f'''\n",
    "SELECT COUNT(st_id) AS active_stud_count\n",
    "FROM\n",
    "    (\n",
    "    SELECT\n",
    "        st_id\n",
    "        , SUM(correct) AS peas_num\n",
    "        , toStartOfMonth(timest) AS curr_month\n",
    "    FROM default.peas\n",
    "    WHERE curr_month = {reporting_month}\n",
    "    GROUP BY st_id, curr_month\n",
    "    HAVING peas_num >= 20\n",
    "    )\n",
    "'''\n",
    "# sending the request and saving data to a pandas DataFrame\n",
    "q_test = ph.read_clickhouse(query=q, connection=connection_default)\n",
    "q_test"
   ]
  },
  {
   "cell_type": "markdown",
   "id": "5d759c63",
   "metadata": {},
   "source": [
    "#### Answer <a class=\"anchor\" id=\"answer_2_1\"></a>"
   ]
  },
  {
   "cell_type": "code",
   "execution_count": null,
   "id": "58823919",
   "metadata": {},
   "outputs": [
    {
     "data": {
      "text/plain": [
       "136"
      ]
     },
     "execution_count": 57,
     "metadata": {},
     "output_type": "execute_result"
    }
   ],
   "source": [
    "q_test.active_stud_count[0]"
   ]
  },
  {
   "cell_type": "markdown",
   "id": "85ea974b",
   "metadata": {},
   "source": [
    "## Optimizing the Funnel<a class=\"anchor\" id=\"task_2_2\"></a>"
   ]
  },
  {
   "cell_type": "markdown",
   "id": "ce89ca57",
   "metadata": {},
   "source": [
    "___\n",
    "All metrics are calculated in the query below  \n",
    "CRAU - Conversion Rate of Active User to purchase  \n",
    "CRMAU - Conversion Rate of Math Active User (subject = 'math') to purchase of Math course "
   ]
  },
  {
   "cell_type": "code",
   "execution_count": null,
   "id": "e1946cd9-98e5-4f6e-bbbf-151a22c2ce89",
   "metadata": {},
   "outputs": [],
   "source": []
  },
  {
   "cell_type": "code",
   "execution_count": null,
   "id": "7b115d70",
   "metadata": {
    "scrolled": true
   },
   "outputs": [],
   "source": [
    "q = '''\n",
    "-- default.studs AS t1\n",
    "-- default.peas AS t2\n",
    "-- default.final_project_check AS t3\n",
    "-- active_users AS t4\n",
    "-- money_total AS t5\n",
    "\n",
    "WITH active_users AS \n",
    "    (\n",
    "    -- A subquery that creates two columns 'active' and 'active_math'\n",
    "    -- with a value of 1 or 0 depending on the condition of activity and\n",
    "    -- math activity.\n",
    "    SELECT\n",
    "        t2.st_id AS st_id,\n",
    "        SUM(t2.correct) > 10 AS active,\n",
    "        sumIf(t2.correct, t2.subject = 'Math') >= 2 AS active_math\n",
    "    FROM \n",
    "        default.peas AS t2\n",
    "    GROUP BY\n",
    "        t2.st_id\n",
    "    ),\n",
    "    \n",
    "    money_total AS\n",
    "    (\n",
    "    -- A subquery that creates a table indicating the revenue from each user.\n",
    "    SELECT\n",
    "        t3.st_id AS st_id,\n",
    "        sum(t3.money) AS rev\n",
    "    FROM\n",
    "      default.final_project_check AS t3\n",
    "    GROUP BY\n",
    "      t3.st_id\n",
    "    )\n",
    "    \n",
    "SELECT \n",
    "    t1.test_grp AS test_group,\n",
    "    SUM (t5.rev) / COUNT (t1.st_id) AS ARPU,\n",
    "    sumIf(t5.rev, t4.active = 1) / countIf(t4.st_id, t4.active = 1) AS ARPAU,\n",
    "    countIf(t1.st_id, t5.rev > 0) / COUNT(t1.st_id) * 100 AS CR,\n",
    "    countIf(t1.st_id, (t4.active AND t5.rev > 0)) / countIf(t1.st_id, t4.active) * 100 AS CRAU,\n",
    "    countIf(t1.st_id, (t4.active_math AND t5.rev > 0)) / countIf(t1.st_id, t4.active_math) * 100 AS CRMAU\n",
    "\n",
    "FROM\n",
    "    default.studs AS t1\n",
    "        LEFT JOIN active_users AS t4 ON t1.st_id = t4.st_id\n",
    "        LEFT JOIN money_total AS t5 ON t1.st_id = t5.st_id\n",
    "GROUP BY test_group\n",
    "'''\n",
    "# sending the request and saving data to a pandas DataFrame\n",
    "q_test = ph.read_clickhouse(query=q, connection=connection_default)"
   ]
  },
  {
   "cell_type": "markdown",
   "id": "962c31e8",
   "metadata": {},
   "source": [
    "#### Answer <a class=\"anchor\" id=\"answer_2_2\"></a>"
   ]
  },
  {
   "cell_type": "code",
   "execution_count": null,
   "id": "9d69c056",
   "metadata": {},
   "outputs": [
    {
     "data": {
      "text/html": [
       "<div>\n",
       "<style scoped>\n",
       "    .dataframe tbody tr th:only-of-type {\n",
       "        vertical-align: middle;\n",
       "    }\n",
       "\n",
       "    .dataframe tbody tr th {\n",
       "        vertical-align: top;\n",
       "    }\n",
       "\n",
       "    .dataframe thead th {\n",
       "        text-align: right;\n",
       "    }\n",
       "</style>\n",
       "<table border=\"1\" class=\"dataframe\">\n",
       "  <thead>\n",
       "    <tr style=\"text-align: right;\">\n",
       "      <th></th>\n",
       "      <th>test_group</th>\n",
       "      <th>ARPU</th>\n",
       "      <th>ARPAU</th>\n",
       "      <th>CR</th>\n",
       "      <th>CRAU</th>\n",
       "      <th>CRMAU</th>\n",
       "    </tr>\n",
       "  </thead>\n",
       "  <tbody>\n",
       "    <tr>\n",
       "      <th>0</th>\n",
       "      <td>control</td>\n",
       "      <td>4540.983607</td>\n",
       "      <td>10393.700787</td>\n",
       "      <td>4.918033</td>\n",
       "      <td>11.023622</td>\n",
       "      <td>10.204082</td>\n",
       "    </tr>\n",
       "    <tr>\n",
       "      <th>1</th>\n",
       "      <td>pilot</td>\n",
       "      <td>11508.474576</td>\n",
       "      <td>29739.583333</td>\n",
       "      <td>10.847458</td>\n",
       "      <td>26.041667</td>\n",
       "      <td>14.285714</td>\n",
       "    </tr>\n",
       "  </tbody>\n",
       "</table>\n",
       "</div>"
      ],
      "text/plain": [
       "  test_group          ARPU         ARPAU         CR       CRAU      CRMAU\n",
       "0    control   4540.983607  10393.700787   4.918033  11.023622  10.204082\n",
       "1      pilot  11508.474576  29739.583333  10.847458  26.041667  14.285714"
      ]
     },
     "execution_count": 59,
     "metadata": {},
     "output_type": "execute_result"
    }
   ],
   "source": [
    "q_test"
   ]
  },
  {
   "cell_type": "markdown",
   "id": "94e58d11",
   "metadata": {},
   "source": [
    "# Task 3. Python <a class=\"anchor\" id=\"task_3\"></a>"
   ]
  },
  {
   "cell_type": "markdown",
   "id": "a30bfd9b",
   "metadata": {},
   "source": [
    "___"
   ]
  },
  {
   "cell_type": "markdown",
   "id": "34fbab19",
   "metadata": {},
   "source": [
    "We assume that the input to the function will be the same data as for Task 1:\n",
    "- main_file - [**groups.csv**](https://disk.yandex.ru/d/58Us0DWOzuWAjg) - a file with information about user membership in the control or experimental group (A - control, B - target group).\n",
    "- add_file - [**groups_add.csv**](https://disk.yandex.ru/d/3aARY-P9pfaksg) - an additional file with users that was sent to you 2 days after the data was transferred.\n",
    "- active_studs - [**active_studs.csv**](https://disk.yandex.ru/d/prbgU-rZpiXVYg) - a file with information about users who logged into the platform on the days of the experiment.\n",
    "- checks - [**checks.csv**](https://disk.yandex.ru/d/84hTmELphW2sqQ) - a file with information about user payments on the days of the experiment.\n"
   ]
  },
  {
   "cell_type": "code",
   "execution_count": null,
   "id": "9e8b233e",
   "metadata": {},
   "outputs": [],
   "source": [
    "# The function loads information from the additional file and recalculates metrics based on additional parameters.\n",
    "def get_metrics(main_file, add_file, active_studs, checks):\n",
    "    '''\n",
    "    The function takes 4 data frames as input, as in task 1:\n",
    "    main_file - a data frame with information about user belonging to the control or experimental group (A - control, B - target group)\n",
    "    add_file - additional data frame with users\n",
    "    active_studs - a data frame with information about users who logged into the platform during the experiment.\n",
    "    checks - a data frame with information about user payments during the experiment.\n",
    "\n",
    "    The function outputs 4 data frames with metric calculations by group:\n",
    "    user_groups - the number of users by group\n",
    "    conversion - conversion rate calculation\n",
    "    arppu - calculation of the average check for paying users\n",
    "    median - calculation of the median check for paying users\n",
    "    '''\n",
    "    # importing required modules\n",
    "    import pandas as pd\n",
    "    \n",
    "    full_groups = main_file.append(add_file)\n",
    "    full_groups_active = full_groups.merge(active_studs, how='inner', left_on='id', right_on='student_id')\n",
    "    full_groups_active_rev = full_groups_active.merge(checks, how='left', on='student_id')\n",
    "    # removing redundant column\n",
    "    full_groups_active_rev = full_groups_active_rev.drop(columns = 'student_id')\n",
    "    #adding a column that will show whether the student converted to payment or not.\n",
    "    full_groups_active_rev['is_converted'] = ~full_groups_active_rev.rev.isna()\n",
    "        \n",
    "    # calculating the conversion for both groups\n",
    "    conversion = full_groups_active_rev\\\n",
    "                            .query(\"grp == 'A' & is_converted == True\")\\\n",
    "                            .groupby('grp',)\\\n",
    "                            .agg({'id':'count'})\\\n",
    "                            / full_groups_active_rev[full_groups_active_rev.grp == 'A'].id.count() * 100\n",
    "\n",
    "    conversion = conversion.append(full_groups_active_rev\\\n",
    "                            .query(\"grp == 'B' & is_converted == True\")\\\n",
    "                            .groupby('grp')\\\n",
    "                            .agg({'id':'count'})\\\n",
    "                            / full_groups_active_rev[full_groups_active_rev.grp == 'B'].id.count() * 100\n",
    "                                  )\n",
    "    conversion = conversion.reset_index().rename(columns={'id':'conversion'})\n",
    "    # calculating ARPPU\n",
    "    arppu = full_groups_active_rev.groupby('grp',as_index=False).agg({'rev':'mean'})\n",
    "    arppu = arppu.rename(columns={'rev':'arppu'})\n",
    "    # calculating median for PPU\n",
    "    median = full_groups_active_rev.groupby('grp',as_index=False).agg({'rev':'median'})\n",
    "    median = median.rename(columns={'rev':'median'})\n",
    "    user_groups =  full_groups_active_rev\\\n",
    "                .groupby('grp', as_index=False)\\\n",
    "                .agg({'id':'count'})\n",
    "    return user_groups, conversion, arppu, median    "
   ]
  },
  {
   "cell_type": "markdown",
   "id": "318df9a8",
   "metadata": {},
   "source": [
    "checking function works"
   ]
  },
  {
   "cell_type": "code",
   "execution_count": null,
   "id": "c3f0a97e",
   "metadata": {},
   "outputs": [],
   "source": [
    "user_groups, conversion, arppu, median = get_metrics(groups, groups_add, active_studs, checks)"
   ]
  },
  {
   "cell_type": "code",
   "execution_count": null,
   "id": "ded2af51",
   "metadata": {},
   "outputs": [
    {
     "data": {
      "text/html": [
       "<div>\n",
       "<style scoped>\n",
       "    .dataframe tbody tr th:only-of-type {\n",
       "        vertical-align: middle;\n",
       "    }\n",
       "\n",
       "    .dataframe tbody tr th {\n",
       "        vertical-align: top;\n",
       "    }\n",
       "\n",
       "    .dataframe thead th {\n",
       "        text-align: right;\n",
       "    }\n",
       "</style>\n",
       "<table border=\"1\" class=\"dataframe\">\n",
       "  <thead>\n",
       "    <tr style=\"text-align: right;\">\n",
       "      <th></th>\n",
       "      <th>grp</th>\n",
       "      <th>id</th>\n",
       "    </tr>\n",
       "  </thead>\n",
       "  <tbody>\n",
       "    <tr>\n",
       "      <th>0</th>\n",
       "      <td>A</td>\n",
       "      <td>1538</td>\n",
       "    </tr>\n",
       "    <tr>\n",
       "      <th>1</th>\n",
       "      <td>B</td>\n",
       "      <td>6803</td>\n",
       "    </tr>\n",
       "  </tbody>\n",
       "</table>\n",
       "</div>"
      ],
      "text/plain": [
       "  grp    id\n",
       "0   A  1538\n",
       "1   B  6803"
      ]
     },
     "execution_count": 62,
     "metadata": {},
     "output_type": "execute_result"
    }
   ],
   "source": [
    "user_groups"
   ]
  },
  {
   "cell_type": "code",
   "execution_count": null,
   "id": "80857f90",
   "metadata": {},
   "outputs": [
    {
     "data": {
      "text/html": [
       "<div>\n",
       "<style scoped>\n",
       "    .dataframe tbody tr th:only-of-type {\n",
       "        vertical-align: middle;\n",
       "    }\n",
       "\n",
       "    .dataframe tbody tr th {\n",
       "        vertical-align: top;\n",
       "    }\n",
       "\n",
       "    .dataframe thead th {\n",
       "        text-align: right;\n",
       "    }\n",
       "</style>\n",
       "<table border=\"1\" class=\"dataframe\">\n",
       "  <thead>\n",
       "    <tr style=\"text-align: right;\">\n",
       "      <th></th>\n",
       "      <th>grp</th>\n",
       "      <th>conversion</th>\n",
       "    </tr>\n",
       "  </thead>\n",
       "  <tbody>\n",
       "    <tr>\n",
       "      <th>0</th>\n",
       "      <td>A</td>\n",
       "      <td>5.071521</td>\n",
       "    </tr>\n",
       "    <tr>\n",
       "      <th>1</th>\n",
       "      <td>B</td>\n",
       "      <td>4.615611</td>\n",
       "    </tr>\n",
       "  </tbody>\n",
       "</table>\n",
       "</div>"
      ],
      "text/plain": [
       "  grp  conversion\n",
       "0   A    5.071521\n",
       "1   B    4.615611"
      ]
     },
     "execution_count": 63,
     "metadata": {},
     "output_type": "execute_result"
    }
   ],
   "source": [
    "conversion"
   ]
  },
  {
   "cell_type": "code",
   "execution_count": null,
   "id": "daf7a109",
   "metadata": {},
   "outputs": [
    {
     "data": {
      "text/html": [
       "<div>\n",
       "<style scoped>\n",
       "    .dataframe tbody tr th:only-of-type {\n",
       "        vertical-align: middle;\n",
       "    }\n",
       "\n",
       "    .dataframe tbody tr th {\n",
       "        vertical-align: top;\n",
       "    }\n",
       "\n",
       "    .dataframe thead th {\n",
       "        text-align: right;\n",
       "    }\n",
       "</style>\n",
       "<table border=\"1\" class=\"dataframe\">\n",
       "  <thead>\n",
       "    <tr style=\"text-align: right;\">\n",
       "      <th></th>\n",
       "      <th>grp</th>\n",
       "      <th>arppu</th>\n",
       "    </tr>\n",
       "  </thead>\n",
       "  <tbody>\n",
       "    <tr>\n",
       "      <th>0</th>\n",
       "      <td>A</td>\n",
       "      <td>933.589744</td>\n",
       "    </tr>\n",
       "    <tr>\n",
       "      <th>1</th>\n",
       "      <td>B</td>\n",
       "      <td>1257.878992</td>\n",
       "    </tr>\n",
       "  </tbody>\n",
       "</table>\n",
       "</div>"
      ],
      "text/plain": [
       "  grp        arppu\n",
       "0   A   933.589744\n",
       "1   B  1257.878992"
      ]
     },
     "execution_count": 64,
     "metadata": {},
     "output_type": "execute_result"
    }
   ],
   "source": [
    "arppu"
   ]
  },
  {
   "cell_type": "code",
   "execution_count": null,
   "id": "852b6285",
   "metadata": {
    "scrolled": true
   },
   "outputs": [
    {
     "data": {
      "text/html": [
       "<div>\n",
       "<style scoped>\n",
       "    .dataframe tbody tr th:only-of-type {\n",
       "        vertical-align: middle;\n",
       "    }\n",
       "\n",
       "    .dataframe tbody tr th {\n",
       "        vertical-align: top;\n",
       "    }\n",
       "\n",
       "    .dataframe thead th {\n",
       "        text-align: right;\n",
       "    }\n",
       "</style>\n",
       "<table border=\"1\" class=\"dataframe\">\n",
       "  <thead>\n",
       "    <tr style=\"text-align: right;\">\n",
       "      <th></th>\n",
       "      <th>grp</th>\n",
       "      <th>median</th>\n",
       "    </tr>\n",
       "  </thead>\n",
       "  <tbody>\n",
       "    <tr>\n",
       "      <th>0</th>\n",
       "      <td>A</td>\n",
       "      <td>585.0</td>\n",
       "    </tr>\n",
       "    <tr>\n",
       "      <th>1</th>\n",
       "      <td>B</td>\n",
       "      <td>1140.0</td>\n",
       "    </tr>\n",
       "  </tbody>\n",
       "</table>\n",
       "</div>"
      ],
      "text/plain": [
       "  grp  median\n",
       "0   A   585.0\n",
       "1   B  1140.0"
      ]
     },
     "execution_count": 65,
     "metadata": {},
     "output_type": "execute_result"
    }
   ],
   "source": [
    "median"
   ]
  },
  {
   "cell_type": "markdown",
   "id": "d2936198",
   "metadata": {},
   "source": [
    "**The function works**"
   ]
  },
  {
   "cell_type": "code",
   "execution_count": null,
   "id": "a8cfca6e",
   "metadata": {},
   "outputs": [],
   "source": [
    "# Function that plots charts for metrics.\n",
    "def plot_metrics(user_groups, conversion, arppu, median):\n",
    "    '''\n",
    "    The function receives 4 dataframes as inputs:\n",
    "\n",
    "    user_groups - the number of users in each group\n",
    "    conversion - conversion rate calculation\n",
    "    arppu - average check calculation for paying users\n",
    "    median - median check calculation for paying users\n",
    "    and plots graphs based on them.\n",
    "    '''\n",
    "    # importing required modules\n",
    "    import pandas as pd\n",
    "    import seaborn as sns\n",
    "    import matplotlib.pyplot as plt\n",
    "    %matplotlib inline\n",
    "    import numpy as np\n",
    "    \n",
    "    \n",
    "    #sns.set(rc={'figure.figsize':(20,12)})\n",
    "    fig, axes = plt.subplots(2, 2, figsize=(18, 10))\n",
    "    sns.barplot(ax=axes[0, 0], data=user_groups, x=\"grp\", y=\"id\")\n",
    "    sns.barplot(ax=axes[0, 1], data=conversion, x=\"grp\", y=\"conversion\")\n",
    "    sns.barplot(ax=axes[1, 0], data=arppu, x=\"grp\", y=\"arppu\")\n",
    "    sns.barplot(ax=axes[1, 1], data=median, x=\"grp\", y=\"median\")\n",
    "    \n",
    "   "
   ]
  },
  {
   "cell_type": "markdown",
   "id": "058234e3",
   "metadata": {},
   "source": [
    "checking function works"
   ]
  },
  {
   "cell_type": "code",
   "execution_count": null,
   "id": "44c2cec9",
   "metadata": {},
   "outputs": [
    {
     "data": {
      "image/png": "[encoded data removed]",
      "text/plain": [
       "<Figure size 1296x720 with 4 Axes>"
      ]
     },
     "metadata": {
      "needs_background": "light"
     },
     "output_type": "display_data"
    }
   ],
   "source": [
    "plot_metrics(user_groups, conversion, arppu, median)"
   ]
  },
  {
   "cell_type": "markdown",
   "id": "e2155bf1",
   "metadata": {},
   "source": [
    "**The function works**"
   ]
  }
 ],
 "metadata": {
  "celltoolbar": "Tags",
  "kernelspec": {
   "display_name": "Python 3 (ipykernel)",
   "language": "python",
   "name": "python3"
  },
  "language_info": {
   "codemirror_mode": {
    "name": "ipython",
    "version": 3
   },
   "file_extension": ".py",
   "mimetype": "text/x-python",
   "name": "python",
   "nbconvert_exporter": "python",
   "pygments_lexer": "ipython3",
   "version": "3.7.9"
  },
  "vscode": {
   "interpreter": {
    "hash": "82e875ccfb4b165370b74b2caa4ee7b95b927374075ac574bebc876074ad92b7"
   }
  }
 },
 "nbformat": 4,
 "nbformat_minor": 5
}
